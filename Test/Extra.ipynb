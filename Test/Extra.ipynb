{
 "cells": [
  {
   "cell_type": "code",
   "execution_count": 12,
   "id": "c5580204",
   "metadata": {},
   "outputs": [],
   "source": [
    "import pandas as pd\n",
    "import matplotlib.pyplot as plt\n",
    "import seaborn as sn"
   ]
  },
  {
   "cell_type": "code",
   "execution_count": 4,
   "id": "7fe9265d",
   "metadata": {},
   "outputs": [],
   "source": [
    "df=pd.read_csv(\"NSEI.csv\")"
   ]
  },
  {
   "cell_type": "code",
   "execution_count": 9,
   "id": "8690d241",
   "metadata": {
    "scrolled": true
   },
   "outputs": [],
   "source": [
    "df[\"%diff\"]=  (df[\"Close\"].shift(1).ffill()/df[\"Close\"]-1)*100"
   ]
  },
  {
   "cell_type": "code",
   "execution_count": 10,
   "id": "736847f2",
   "metadata": {
    "scrolled": true
   },
   "outputs": [
    {
     "data": {
      "text/html": [
       "<div>\n",
       "<style scoped>\n",
       "    .dataframe tbody tr th:only-of-type {\n",
       "        vertical-align: middle;\n",
       "    }\n",
       "\n",
       "    .dataframe tbody tr th {\n",
       "        vertical-align: top;\n",
       "    }\n",
       "\n",
       "    .dataframe thead th {\n",
       "        text-align: right;\n",
       "    }\n",
       "</style>\n",
       "<table border=\"1\" class=\"dataframe\">\n",
       "  <thead>\n",
       "    <tr style=\"text-align: right;\">\n",
       "      <th></th>\n",
       "      <th>Date</th>\n",
       "      <th>Open</th>\n",
       "      <th>High</th>\n",
       "      <th>Low</th>\n",
       "      <th>Close</th>\n",
       "      <th>Adj Close</th>\n",
       "      <th>Volume</th>\n",
       "      <th>%diff</th>\n",
       "    </tr>\n",
       "  </thead>\n",
       "  <tbody>\n",
       "    <tr>\n",
       "      <th>0</th>\n",
       "      <td>30-10-2017</td>\n",
       "      <td>10353.84961</td>\n",
       "      <td>10384.50000</td>\n",
       "      <td>10344.29981</td>\n",
       "      <td>10363.65039</td>\n",
       "      <td>10363.65039</td>\n",
       "      <td>236900</td>\n",
       "      <td>NaN</td>\n",
       "    </tr>\n",
       "    <tr>\n",
       "      <th>1</th>\n",
       "      <td>31-10-2017</td>\n",
       "      <td>10364.90039</td>\n",
       "      <td>10367.70020</td>\n",
       "      <td>10323.95020</td>\n",
       "      <td>10335.29981</td>\n",
       "      <td>10335.29981</td>\n",
       "      <td>232600</td>\n",
       "      <td>0.274308</td>\n",
       "    </tr>\n",
       "    <tr>\n",
       "      <th>2</th>\n",
       "      <td>01-11-2017</td>\n",
       "      <td>10390.34961</td>\n",
       "      <td>10451.65039</td>\n",
       "      <td>10383.04981</td>\n",
       "      <td>10440.50000</td>\n",
       "      <td>10440.50000</td>\n",
       "      <td>260300</td>\n",
       "      <td>-1.007616</td>\n",
       "    </tr>\n",
       "    <tr>\n",
       "      <th>3</th>\n",
       "      <td>02-11-2017</td>\n",
       "      <td>10440.50000</td>\n",
       "      <td>10453.00000</td>\n",
       "      <td>10412.54981</td>\n",
       "      <td>10423.79981</td>\n",
       "      <td>10423.79981</td>\n",
       "      <td>201500</td>\n",
       "      <td>0.160212</td>\n",
       "    </tr>\n",
       "    <tr>\n",
       "      <th>4</th>\n",
       "      <td>03-11-2017</td>\n",
       "      <td>10461.54981</td>\n",
       "      <td>10461.70020</td>\n",
       "      <td>10403.59961</td>\n",
       "      <td>10452.50000</td>\n",
       "      <td>10452.50000</td>\n",
       "      <td>199900</td>\n",
       "      <td>-0.274577</td>\n",
       "    </tr>\n",
       "    <tr>\n",
       "      <th>...</th>\n",
       "      <td>...</td>\n",
       "      <td>...</td>\n",
       "      <td>...</td>\n",
       "      <td>...</td>\n",
       "      <td>...</td>\n",
       "      <td>...</td>\n",
       "      <td>...</td>\n",
       "      <td>...</td>\n",
       "    </tr>\n",
       "    <tr>\n",
       "      <th>1223</th>\n",
       "      <td>21-10-2022</td>\n",
       "      <td>17622.84961</td>\n",
       "      <td>17670.15039</td>\n",
       "      <td>17520.75000</td>\n",
       "      <td>17576.30078</td>\n",
       "      <td>17576.30078</td>\n",
       "      <td>277700</td>\n",
       "      <td>-0.070274</td>\n",
       "    </tr>\n",
       "    <tr>\n",
       "      <th>1224</th>\n",
       "      <td>24-10-2022</td>\n",
       "      <td>17736.34961</td>\n",
       "      <td>17777.55078</td>\n",
       "      <td>17707.40039</td>\n",
       "      <td>17730.75000</td>\n",
       "      <td>17730.75000</td>\n",
       "      <td>45000</td>\n",
       "      <td>-0.871081</td>\n",
       "    </tr>\n",
       "    <tr>\n",
       "      <th>1225</th>\n",
       "      <td>25-10-2022</td>\n",
       "      <td>17808.30078</td>\n",
       "      <td>17811.50000</td>\n",
       "      <td>17637.00000</td>\n",
       "      <td>17656.34961</td>\n",
       "      <td>17656.34961</td>\n",
       "      <td>251400</td>\n",
       "      <td>0.421380</td>\n",
       "    </tr>\n",
       "    <tr>\n",
       "      <th>1226</th>\n",
       "      <td>27-10-2022</td>\n",
       "      <td>17771.40039</td>\n",
       "      <td>17783.90039</td>\n",
       "      <td>17654.50000</td>\n",
       "      <td>17736.94922</td>\n",
       "      <td>17736.94922</td>\n",
       "      <td>324600</td>\n",
       "      <td>-0.454416</td>\n",
       "    </tr>\n",
       "    <tr>\n",
       "      <th>1227</th>\n",
       "      <td>28-10-2022</td>\n",
       "      <td>17756.40039</td>\n",
       "      <td>17838.90039</td>\n",
       "      <td>17723.69922</td>\n",
       "      <td>17786.80078</td>\n",
       "      <td>17786.80078</td>\n",
       "      <td>250000</td>\n",
       "      <td>-0.280273</td>\n",
       "    </tr>\n",
       "  </tbody>\n",
       "</table>\n",
       "<p>1228 rows × 8 columns</p>\n",
       "</div>"
      ],
      "text/plain": [
       "            Date         Open         High          Low        Close  \\\n",
       "0     30-10-2017  10353.84961  10384.50000  10344.29981  10363.65039   \n",
       "1     31-10-2017  10364.90039  10367.70020  10323.95020  10335.29981   \n",
       "2     01-11-2017  10390.34961  10451.65039  10383.04981  10440.50000   \n",
       "3     02-11-2017  10440.50000  10453.00000  10412.54981  10423.79981   \n",
       "4     03-11-2017  10461.54981  10461.70020  10403.59961  10452.50000   \n",
       "...          ...          ...          ...          ...          ...   \n",
       "1223  21-10-2022  17622.84961  17670.15039  17520.75000  17576.30078   \n",
       "1224  24-10-2022  17736.34961  17777.55078  17707.40039  17730.75000   \n",
       "1225  25-10-2022  17808.30078  17811.50000  17637.00000  17656.34961   \n",
       "1226  27-10-2022  17771.40039  17783.90039  17654.50000  17736.94922   \n",
       "1227  28-10-2022  17756.40039  17838.90039  17723.69922  17786.80078   \n",
       "\n",
       "        Adj Close  Volume     %diff  \n",
       "0     10363.65039  236900       NaN  \n",
       "1     10335.29981  232600  0.274308  \n",
       "2     10440.50000  260300 -1.007616  \n",
       "3     10423.79981  201500  0.160212  \n",
       "4     10452.50000  199900 -0.274577  \n",
       "...           ...     ...       ...  \n",
       "1223  17576.30078  277700 -0.070274  \n",
       "1224  17730.75000   45000 -0.871081  \n",
       "1225  17656.34961  251400  0.421380  \n",
       "1226  17736.94922  324600 -0.454416  \n",
       "1227  17786.80078  250000 -0.280273  \n",
       "\n",
       "[1228 rows x 8 columns]"
      ]
     },
     "execution_count": 10,
     "metadata": {},
     "output_type": "execute_result"
    }
   ],
   "source": [
    "df"
   ]
  },
  {
   "cell_type": "code",
   "execution_count": 11,
   "id": "23378a70",
   "metadata": {},
   "outputs": [
    {
     "data": {
      "text/plain": [
       "count    1227.000000\n",
       "mean       -0.036307\n",
       "std         1.250410\n",
       "min        -8.057146\n",
       "25%        -0.702400\n",
       "50%        -0.079055\n",
       "75%         0.508563\n",
       "max        14.916727\n",
       "Name: %diff, dtype: float64"
      ]
     },
     "execution_count": 11,
     "metadata": {},
     "output_type": "execute_result"
    }
   ],
   "source": [
    "df[\"%diff\"].describe()"
   ]
  },
  {
   "cell_type": "code",
   "execution_count": 14,
   "id": "1dffd9f6",
   "metadata": {},
   "outputs": [
    {
     "data": {
      "text/plain": [
       "<AxesSubplot:xlabel='%diff', ylabel='Count'>"
      ]
     },
     "execution_count": 14,
     "metadata": {},
     "output_type": "execute_result"
    },
    {
     "data": {
      "image/png": "[encoded data removed]",
      "text/plain": [
       "<Figure size 432x288 with 1 Axes>"
      ]
     },
     "metadata": {
      "needs_background": "light"
     },
     "output_type": "display_data"
    }
   ],
   "source": [
    "sn.histplot(df['%diff'],kde=True)"
   ]
  },
  {
   "cell_type": "markdown",
   "id": "da8d0a0c",
   "metadata": {},
   "source": [
    "# Bank Nifty\n"
   ]
  },
  {
   "cell_type": "code",
   "execution_count": 71,
   "id": "ed953a78",
   "metadata": {},
   "outputs": [],
   "source": [
    "df=pd.read_csv(\"NSEBANK.csv\")"
   ]
  },
  {
   "cell_type": "code",
   "execution_count": 72,
   "id": "0980ae4f",
   "metadata": {},
   "outputs": [],
   "source": [
    "df[\"%diff\"]=  (df[\"Close\"].shift(1).ffill()/df[\"Close\"]-1)*100"
   ]
  },
  {
   "cell_type": "code",
   "execution_count": 73,
   "id": "b4b5fc1b",
   "metadata": {},
   "outputs": [
    {
     "data": {
      "text/plain": [
       "<AxesSubplot:xlabel='%diff', ylabel='Count'>"
      ]
     },
     "execution_count": 73,
     "metadata": {},
     "output_type": "execute_result"
    },
    {
     "data": {
      "image/png": "[encoded data removed]",
      "text/plain": [
       "<Figure size 432x288 with 1 Axes>"
      ]
     },
     "metadata": {
      "needs_background": "light"
     },
     "output_type": "display_data"
    }
   ],
   "source": [
    "sn.histplot(df['%diff'],kde=True)"
   ]
  },
  {
   "cell_type": "code",
   "execution_count": 74,
   "id": "f5956006",
   "metadata": {},
   "outputs": [],
   "source": [
    "mean=df['%diff'].mean()"
   ]
  },
  {
   "cell_type": "code",
   "execution_count": 75,
   "id": "0ec4e086",
   "metadata": {},
   "outputs": [],
   "source": [
    "std=df['%diff'].std()"
   ]
  },
  {
   "cell_type": "code",
   "execution_count": 76,
   "id": "de570d5c",
   "metadata": {},
   "outputs": [],
   "source": [
    "min=mean-2.7*std\n",
    "max=mean+2.7*std"
   ]
  },
  {
   "cell_type": "code",
   "execution_count": 77,
   "id": "e8c1bd91",
   "metadata": {},
   "outputs": [
    {
     "data": {
      "text/plain": [
       "4.564393321190913"
      ]
     },
     "execution_count": 77,
     "metadata": {},
     "output_type": "execute_result"
    }
   ],
   "source": [
    "max\n"
   ]
  },
  {
   "cell_type": "code",
   "execution_count": 78,
   "id": "ac0f7795",
   "metadata": {},
   "outputs": [],
   "source": [
    "df=df[(df['%diff']> min)  & (df['%diff']<max)]"
   ]
  },
  {
   "cell_type": "code",
   "execution_count": 79,
   "id": "3cd60010",
   "metadata": {},
   "outputs": [
    {
     "data": {
      "text/plain": [
       "<AxesSubplot:xlabel='%diff', ylabel='Count'>"
      ]
     },
     "execution_count": 79,
     "metadata": {},
     "output_type": "execute_result"
    },
    {
     "data": {
      "image/png": "[encoded data removed]",
      "text/plain": [
       "<Figure size 432x288 with 1 Axes>"
      ]
     },
     "metadata": {
      "needs_background": "light"
     },
     "output_type": "display_data"
    }
   ],
   "source": [
    "sn.histplot(df['%diff'],kde=True)"
   ]
  },
  {
   "cell_type": "code",
   "execution_count": 80,
   "id": "bf4b5dff",
   "metadata": {},
   "outputs": [],
   "source": [
    "mean=df['%diff'].mean()"
   ]
  },
  {
   "cell_type": "code",
   "execution_count": 81,
   "id": "b2994db2",
   "metadata": {},
   "outputs": [
    {
     "data": {
      "text/plain": [
       "-0.06456569949997458"
      ]
     },
     "execution_count": 81,
     "metadata": {},
     "output_type": "execute_result"
    }
   ],
   "source": [
    "mean"
   ]
  },
  {
   "cell_type": "code",
   "execution_count": 82,
   "id": "b000b0b4",
   "metadata": {},
   "outputs": [
    {
     "data": {
      "text/html": [
       "<div>\n",
       "<style scoped>\n",
       "    .dataframe tbody tr th:only-of-type {\n",
       "        vertical-align: middle;\n",
       "    }\n",
       "\n",
       "    .dataframe tbody tr th {\n",
       "        vertical-align: top;\n",
       "    }\n",
       "\n",
       "    .dataframe thead th {\n",
       "        text-align: right;\n",
       "    }\n",
       "</style>\n",
       "<table border=\"1\" class=\"dataframe\">\n",
       "  <thead>\n",
       "    <tr style=\"text-align: right;\">\n",
       "      <th></th>\n",
       "      <th>Date</th>\n",
       "      <th>Open</th>\n",
       "      <th>High</th>\n",
       "      <th>Low</th>\n",
       "      <th>Close</th>\n",
       "      <th>Adj Close</th>\n",
       "      <th>Volume</th>\n",
       "      <th>%diff</th>\n",
       "    </tr>\n",
       "  </thead>\n",
       "  <tbody>\n",
       "    <tr>\n",
       "      <th>378</th>\n",
       "      <td>20-05-2019</td>\n",
       "      <td>30230.40039</td>\n",
       "      <td>30827.84961</td>\n",
       "      <td>30111.19922</td>\n",
       "      <td>30759.69922</td>\n",
       "      <td>30759.69922</td>\n",
       "      <td>0.0</td>\n",
       "      <td>-4.257353</td>\n",
       "    </tr>\n",
       "    <tr>\n",
       "      <th>739</th>\n",
       "      <td>02-11-2020</td>\n",
       "      <td>24367.59961</td>\n",
       "      <td>25139.00000</td>\n",
       "      <td>24120.59961</td>\n",
       "      <td>24892.50000</td>\n",
       "      <td>24892.50000</td>\n",
       "      <td>0.0</td>\n",
       "      <td>-3.983528</td>\n",
       "    </tr>\n",
       "    <tr>\n",
       "      <th>618</th>\n",
       "      <td>13-05-2020</td>\n",
       "      <td>20017.75000</td>\n",
       "      <td>20122.25000</td>\n",
       "      <td>19429.90039</td>\n",
       "      <td>19634.94922</td>\n",
       "      <td>19634.94922</td>\n",
       "      <td>520800.0</td>\n",
       "      <td>-3.932272</td>\n",
       "    </tr>\n",
       "    <tr>\n",
       "      <th>870</th>\n",
       "      <td>17-05-2021</td>\n",
       "      <td>32437.84961</td>\n",
       "      <td>33506.89844</td>\n",
       "      <td>32318.69922</td>\n",
       "      <td>33459.25000</td>\n",
       "      <td>33459.25000</td>\n",
       "      <td>0.0</td>\n",
       "      <td>-3.854537</td>\n",
       "    </tr>\n",
       "    <tr>\n",
       "      <th>1091</th>\n",
       "      <td>04-04-2022</td>\n",
       "      <td>37824.94922</td>\n",
       "      <td>38765.85156</td>\n",
       "      <td>37665.55078</td>\n",
       "      <td>38635.19922</td>\n",
       "      <td>38635.19922</td>\n",
       "      <td>309200.0</td>\n",
       "      <td>-3.848043</td>\n",
       "    </tr>\n",
       "    <tr>\n",
       "      <th>...</th>\n",
       "      <td>...</td>\n",
       "      <td>...</td>\n",
       "      <td>...</td>\n",
       "      <td>...</td>\n",
       "      <td>...</td>\n",
       "      <td>...</td>\n",
       "      <td>...</td>\n",
       "      <td>...</td>\n",
       "    </tr>\n",
       "    <tr>\n",
       "      <th>640</th>\n",
       "      <td>15-06-2020</td>\n",
       "      <td>20457.15039</td>\n",
       "      <td>20470.84961</td>\n",
       "      <td>19740.19922</td>\n",
       "      <td>19912.90039</td>\n",
       "      <td>19912.90039</td>\n",
       "      <td>0.0</td>\n",
       "      <td>3.724472</td>\n",
       "    </tr>\n",
       "    <tr>\n",
       "      <th>647</th>\n",
       "      <td>24-06-2020</td>\n",
       "      <td>22479.34961</td>\n",
       "      <td>22479.55078</td>\n",
       "      <td>21336.34961</td>\n",
       "      <td>21426.80078</td>\n",
       "      <td>21426.80078</td>\n",
       "      <td>684600.0</td>\n",
       "      <td>3.911455</td>\n",
       "    </tr>\n",
       "    <tr>\n",
       "      <th>582</th>\n",
       "      <td>17-03-2020</td>\n",
       "      <td>23348.05078</td>\n",
       "      <td>23449.50000</td>\n",
       "      <td>22002.00000</td>\n",
       "      <td>22155.15039</td>\n",
       "      <td>22155.15039</td>\n",
       "      <td>537700.0</td>\n",
       "      <td>4.269888</td>\n",
       "    </tr>\n",
       "    <tr>\n",
       "      <th>773</th>\n",
       "      <td>21-12-2020</td>\n",
       "      <td>30595.80078</td>\n",
       "      <td>30607.50000</td>\n",
       "      <td>29201.19922</td>\n",
       "      <td>29456.44922</td>\n",
       "      <td>29456.44922</td>\n",
       "      <td>0.0</td>\n",
       "      <td>4.271395</td>\n",
       "    </tr>\n",
       "    <tr>\n",
       "      <th>1058</th>\n",
       "      <td>14-02-2022</td>\n",
       "      <td>37664.00000</td>\n",
       "      <td>37796.55078</td>\n",
       "      <td>36828.05078</td>\n",
       "      <td>36908.55078</td>\n",
       "      <td>36908.55078</td>\n",
       "      <td>213800.0</td>\n",
       "      <td>4.358608</td>\n",
       "    </tr>\n",
       "  </tbody>\n",
       "</table>\n",
       "<p>1203 rows × 8 columns</p>\n",
       "</div>"
      ],
      "text/plain": [
       "            Date         Open         High          Low        Close  \\\n",
       "378   20-05-2019  30230.40039  30827.84961  30111.19922  30759.69922   \n",
       "739   02-11-2020  24367.59961  25139.00000  24120.59961  24892.50000   \n",
       "618   13-05-2020  20017.75000  20122.25000  19429.90039  19634.94922   \n",
       "870   17-05-2021  32437.84961  33506.89844  32318.69922  33459.25000   \n",
       "1091  04-04-2022  37824.94922  38765.85156  37665.55078  38635.19922   \n",
       "...          ...          ...          ...          ...          ...   \n",
       "640   15-06-2020  20457.15039  20470.84961  19740.19922  19912.90039   \n",
       "647   24-06-2020  22479.34961  22479.55078  21336.34961  21426.80078   \n",
       "582   17-03-2020  23348.05078  23449.50000  22002.00000  22155.15039   \n",
       "773   21-12-2020  30595.80078  30607.50000  29201.19922  29456.44922   \n",
       "1058  14-02-2022  37664.00000  37796.55078  36828.05078  36908.55078   \n",
       "\n",
       "        Adj Close    Volume     %diff  \n",
       "378   30759.69922       0.0 -4.257353  \n",
       "739   24892.50000       0.0 -3.983528  \n",
       "618   19634.94922  520800.0 -3.932272  \n",
       "870   33459.25000       0.0 -3.854537  \n",
       "1091  38635.19922  309200.0 -3.848043  \n",
       "...           ...       ...       ...  \n",
       "640   19912.90039       0.0  3.724472  \n",
       "647   21426.80078  684600.0  3.911455  \n",
       "582   22155.15039  537700.0  4.269888  \n",
       "773   29456.44922       0.0  4.271395  \n",
       "1058  36908.55078  213800.0  4.358608  \n",
       "\n",
       "[1203 rows x 8 columns]"
      ]
     },
     "execution_count": 82,
     "metadata": {},
     "output_type": "execute_result"
    }
   ],
   "source": [
    "df.sort_values(by=[\"%diff\"])"
   ]
  },
  {
   "cell_type": "code",
   "execution_count": null,
   "id": "45228c59",
   "metadata": {},
   "outputs": [],
   "source": []
  }
 ],
 "metadata": {
  "kernelspec": {
   "display_name": "Python 3",
   "language": "python",
   "name": "python3"
  },
  "language_info": {
   "codemirror_mode": {
    "name": "ipython",
    "version": 3
   },
   "file_extension": ".py",
   "mimetype": "text/x-python",
   "name": "python",
   "nbconvert_exporter": "python",
   "pygments_lexer": "ipython3",
   "version": "3.8.8"
  }
 },
 "nbformat": 4,
 "nbformat_minor": 5
}
