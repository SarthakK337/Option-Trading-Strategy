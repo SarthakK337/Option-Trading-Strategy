{
 "cells": [
  {
   "cell_type": "code",
   "execution_count": 1,
   "id": "8368a330",
   "metadata": {},
   "outputs": [],
   "source": [
    "import requests\n",
    "import pandas as pd\n",
    "\n",
    "class NSE:\n",
    "    def __init__(self):\n",
    "        self.headers={ 'user-agent': 'Mozilla/5.0 (Windows NT 10.0; Win64; x64) AppleWebKit/537.36 (KHTML, like Gecko) Chrome/107.0.0.0 Safari/537.36'}\n",
    "        self.session=requests.session()\n",
    "        self.session.get(\"http://nseindia.com\", headers = self.headers)\n",
    "\n",
    "\n",
    "\n",
    "    def option_data(self, symbol, indices=False):\n",
    "        symbol=symbol.replace(',' ,'%20').replace('&', '% 26')\n",
    "        if not indices:\n",
    "            url = 'https://www.nseindia.com/api/option-chain-equities?symbol=' + symbol\n",
    "        else:\n",
    "            url = 'https://www.nseindia.com/api/option-chain-indices?symbole=' + symbol\n",
    "        data = self.session.get(url, headers =self.headers).json()[\"records\"][\"data\"]\n",
    "        my_df = []\n",
    "        for i in data:\n",
    "            for k, v in i.items():\n",
    "                if k ==\"CE\" or k == \"PE\":\n",
    "                    info = v\n",
    "                    info[\"instrumentType\"] = k\n",
    "                    my_df.append(info)\n",
    "        df = pd.DataFrame(my_df)\n",
    "        df = df.set_index(\"identifier\", drop=True)\n",
    "        return df"
   ]
  },
  {
   "cell_type": "code",
   "execution_count": 2,
   "id": "f6471fec",
   "metadata": {},
   "outputs": [
    {
     "ename": "TypeError",
     "evalue": "option_data() missing 1 required positional argument: 'symbol'",
     "output_type": "error",
     "traceback": [
      "\u001b[1;31m---------------------------------------------------------------------------\u001b[0m",
      "\u001b[1;31mTypeError\u001b[0m                                 Traceback (most recent call last)",
      "\u001b[1;32m<ipython-input-2-e7e8e2737b96>\u001b[0m in \u001b[0;36m<module>\u001b[1;34m\u001b[0m\n\u001b[1;32m----> 1\u001b[1;33m \u001b[0mprint\u001b[0m\u001b[1;33m(\u001b[0m\u001b[0mNSE\u001b[0m\u001b[1;33m.\u001b[0m\u001b[0moption_data\u001b[0m\u001b[1;33m(\u001b[0m\u001b[1;34m\"ACC\"\u001b[0m\u001b[1;33m)\u001b[0m\u001b[1;33m)\u001b[0m\u001b[1;33m\u001b[0m\u001b[1;33m\u001b[0m\u001b[0m\n\u001b[0m",
      "\u001b[1;31mTypeError\u001b[0m: option_data() missing 1 required positional argument: 'symbol'"
     ]
    }
   ],
   "source": [
    "print(NSE.option_data(\"ACC\"))"
   ]
  },
  {
   "cell_type": "code",
   "execution_count": null,
   "id": "4c8ff039",
   "metadata": {},
   "outputs": [],
   "source": []
  }
 ],
 "metadata": {
  "kernelspec": {
   "display_name": "Python 3",
   "language": "python",
   "name": "python3"
  },
  "language_info": {
   "codemirror_mode": {
    "name": "ipython",
    "version": 3
   },
   "file_extension": ".py",
   "mimetype": "text/x-python",
   "name": "python",
   "nbconvert_exporter": "python",
   "pygments_lexer": "ipython3",
   "version": "3.8.8"
  }
 },
 "nbformat": 4,
 "nbformat_minor": 5
}
