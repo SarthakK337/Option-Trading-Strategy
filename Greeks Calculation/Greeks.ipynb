{
 "cells": [
  {
   "cell_type": "code",
   "execution_count": 1,
   "id": "7fae6a08",
   "metadata": {},
   "outputs": [
    {
     "name": "stdout",
     "output_type": "stream",
     "text": [
      "Collecting vollib\n",
      "  Downloading vollib-0.1.5.tar.gz (11 kB)\n",
      "Collecting lets_be_rational\n",
      "  Downloading lets_be_rational-1.0.9.tar.gz (51 kB)\n",
      "Collecting simplejson\n",
      "  Downloading simplejson-3.17.6-cp38-cp38-win_amd64.whl (75 kB)\n",
      "Requirement already satisfied: numpy in c:\\users\\t-sarthak\\anaconda3\\lib\\site-packages (from vollib) (1.22.3)\n",
      "Requirement already satisfied: pandas in c:\\users\\t-sarthak\\anaconda3\\lib\\site-packages (from vollib) (1.4.2)\n",
      "Requirement already satisfied: pytz>=2020.1 in c:\\users\\t-sarthak\\anaconda3\\lib\\site-packages (from pandas->vollib) (2022.1)\n",
      "Requirement already satisfied: python-dateutil>=2.8.1 in c:\\users\\t-sarthak\\anaconda3\\lib\\site-packages (from pandas->vollib) (2.8.1)\n",
      "Requirement already satisfied: six>=1.5 in c:\\users\\t-sarthak\\anaconda3\\lib\\site-packages (from python-dateutil>=2.8.1->pandas->vollib) (1.14.0)\n",
      "Building wheels for collected packages: vollib, lets-be-rational\n",
      "  Building wheel for vollib (setup.py): started\n",
      "  Building wheel for vollib (setup.py): finished with status 'done'\n",
      "  Created wheel for vollib: filename=vollib-0.1.5-py3-none-any.whl size=29801 sha256=67982433fdb1f1eb50a3cc93e369f70342e8a11a1d4da36fb2a1c64f233e8c52\n",
      "  Stored in directory: c:\\users\\t-sarthak\\appdata\\local\\pip\\cache\\wheels\\8c\\fa\\96\\976677957d7ef2e43176b8bc44fd0e68ac2083a94e80c3b4dc\n",
      "  Building wheel for lets-be-rational (setup.py): started\n",
      "  Building wheel for lets-be-rational (setup.py): finished with status 'error'\n",
      "  Running setup.py clean for lets-be-rational\n",
      "Successfully built vollib\n",
      "Failed to build lets-be-rational\n",
      "Installing collected packages: simplejson, lets-be-rational, vollib\n",
      "    Running setup.py install for lets-be-rational: started\n",
      "    Running setup.py install for lets-be-rational: finished with status 'error'\n"
     ]
    },
    {
     "name": "stderr",
     "output_type": "stream",
     "text": [
      "WARNING: Ignoring invalid distribution -mpy (c:\\users\\t-sarthak\\anaconda3\\lib\\site-packages)\n",
      "WARNING: Ignoring invalid distribution -umpy (c:\\users\\t-sarthak\\anaconda3\\lib\\site-packages)\n",
      "WARNING: Ignoring invalid distribution - (c:\\users\\t-sarthak\\anaconda3\\lib\\site-packages)\n",
      "WARNING: Ignoring invalid distribution -mpy (c:\\users\\t-sarthak\\anaconda3\\lib\\site-packages)\n",
      "WARNING: Ignoring invalid distribution -umpy (c:\\users\\t-sarthak\\anaconda3\\lib\\site-packages)\n",
      "WARNING: Ignoring invalid distribution - (c:\\users\\t-sarthak\\anaconda3\\lib\\site-packages)\n",
      "  ERROR: Command errored out with exit status 1:\n",
      "   command: 'C:\\Users\\t-sarthak\\Anaconda3\\python.exe' -u -c 'import io, os, sys, setuptools, tokenize; sys.argv[0] = '\"'\"'C:\\\\Users\\\\t-sarthak\\\\AppData\\\\Local\\\\Temp\\\\pip-install-q7yo6u5z\\\\lets-be-rational_b4f0de3712cd45a4ae441209b8c2bcb6\\\\setup.py'\"'\"'; __file__='\"'\"'C:\\\\Users\\\\t-sarthak\\\\AppData\\\\Local\\\\Temp\\\\pip-install-q7yo6u5z\\\\lets-be-rational_b4f0de3712cd45a4ae441209b8c2bcb6\\\\setup.py'\"'\"';f = getattr(tokenize, '\"'\"'open'\"'\"', open)(__file__) if os.path.exists(__file__) else io.StringIO('\"'\"'from setuptools import setup; setup()'\"'\"');code = f.read().replace('\"'\"'\\r\\n'\"'\"', '\"'\"'\\n'\"'\"');f.close();exec(compile(code, __file__, '\"'\"'exec'\"'\"'))' bdist_wheel -d 'C:\\Users\\t-sarthak\\AppData\\Local\\Temp\\pip-wheel-y4fvs5lx'\n",
      "       cwd: C:\\Users\\t-sarthak\\AppData\\Local\\Temp\\pip-install-q7yo6u5z\\lets-be-rational_b4f0de3712cd45a4ae441209b8c2bcb6\\\n",
      "  Complete output (13 lines):\n",
      "  running bdist_wheel\n",
      "  running build\n",
      "  running build_py\n",
      "  creating build\n",
      "  creating build\\lib.win-amd64-3.8\n",
      "  creating build\\lib.win-amd64-3.8\\lets_be_rational\n",
      "  copying lets_be_rational\\LetsBeRational.py -> build\\lib.win-amd64-3.8\\lets_be_rational\n",
      "  copying lets_be_rational\\__init__.py -> build\\lib.win-amd64-3.8\\lets_be_rational\n",
      "  running build_ext\n",
      "  building 'lets_be_rational._LetsBeRational' extension\n",
      "  swigging src/LetsBeRational.i to src/LetsBeRational_wrap.c\n",
      "  swig.exe -python -outdir lets_be_rational -o src/LetsBeRational_wrap.c src/LetsBeRational.i\n",
      "  error: command 'swig.exe' failed: No such file or directory\n",
      "  ----------------------------------------\n",
      "  ERROR: Failed building wheel for lets-be-rational\n",
      "WARNING: Ignoring invalid distribution -mpy (c:\\users\\t-sarthak\\anaconda3\\lib\\site-packages)\n",
      "WARNING: Ignoring invalid distribution -umpy (c:\\users\\t-sarthak\\anaconda3\\lib\\site-packages)\n",
      "WARNING: Ignoring invalid distribution - (c:\\users\\t-sarthak\\anaconda3\\lib\\site-packages)\n",
      "    ERROR: Command errored out with exit status 1:\n",
      "     command: 'C:\\Users\\t-sarthak\\Anaconda3\\python.exe' -u -c 'import io, os, sys, setuptools, tokenize; sys.argv[0] = '\"'\"'C:\\\\Users\\\\t-sarthak\\\\AppData\\\\Local\\\\Temp\\\\pip-install-q7yo6u5z\\\\lets-be-rational_b4f0de3712cd45a4ae441209b8c2bcb6\\\\setup.py'\"'\"'; __file__='\"'\"'C:\\\\Users\\\\t-sarthak\\\\AppData\\\\Local\\\\Temp\\\\pip-install-q7yo6u5z\\\\lets-be-rational_b4f0de3712cd45a4ae441209b8c2bcb6\\\\setup.py'\"'\"';f = getattr(tokenize, '\"'\"'open'\"'\"', open)(__file__) if os.path.exists(__file__) else io.StringIO('\"'\"'from setuptools import setup; setup()'\"'\"');code = f.read().replace('\"'\"'\\r\\n'\"'\"', '\"'\"'\\n'\"'\"');f.close();exec(compile(code, __file__, '\"'\"'exec'\"'\"'))' install --record 'C:\\Users\\t-sarthak\\AppData\\Local\\Temp\\pip-record-44am23un\\install-record.txt' --single-version-externally-managed --compile --install-headers 'C:\\Users\\t-sarthak\\Anaconda3\\Include\\lets-be-rational'\n",
      "         cwd: C:\\Users\\t-sarthak\\AppData\\Local\\Temp\\pip-install-q7yo6u5z\\lets-be-rational_b4f0de3712cd45a4ae441209b8c2bcb6\\\n",
      "    Complete output (13 lines):\n",
      "    running install\n",
      "    running build\n",
      "    running build_py\n",
      "    creating build\n",
      "    creating build\\lib.win-amd64-3.8\n",
      "    creating build\\lib.win-amd64-3.8\\lets_be_rational\n",
      "    copying lets_be_rational\\LetsBeRational.py -> build\\lib.win-amd64-3.8\\lets_be_rational\n",
      "    copying lets_be_rational\\__init__.py -> build\\lib.win-amd64-3.8\\lets_be_rational\n",
      "    running build_ext\n",
      "    building 'lets_be_rational._LetsBeRational' extension\n",
      "    swigging src/LetsBeRational.i to src/LetsBeRational_wrap.c\n",
      "    swig.exe -python -outdir lets_be_rational -o src/LetsBeRational_wrap.c src/LetsBeRational.i\n",
      "    error: command 'swig.exe' failed: No such file or directory\n",
      "    ----------------------------------------\n",
      "ERROR: Command errored out with exit status 1: 'C:\\Users\\t-sarthak\\Anaconda3\\python.exe' -u -c 'import io, os, sys, setuptools, tokenize; sys.argv[0] = '\"'\"'C:\\\\Users\\\\t-sarthak\\\\AppData\\\\Local\\\\Temp\\\\pip-install-q7yo6u5z\\\\lets-be-rational_b4f0de3712cd45a4ae441209b8c2bcb6\\\\setup.py'\"'\"'; __file__='\"'\"'C:\\\\Users\\\\t-sarthak\\\\AppData\\\\Local\\\\Temp\\\\pip-install-q7yo6u5z\\\\lets-be-rational_b4f0de3712cd45a4ae441209b8c2bcb6\\\\setup.py'\"'\"';f = getattr(tokenize, '\"'\"'open'\"'\"', open)(__file__) if os.path.exists(__file__) else io.StringIO('\"'\"'from setuptools import setup; setup()'\"'\"');code = f.read().replace('\"'\"'\\r\\n'\"'\"', '\"'\"'\\n'\"'\"');f.close();exec(compile(code, __file__, '\"'\"'exec'\"'\"'))' install --record 'C:\\Users\\t-sarthak\\AppData\\Local\\Temp\\pip-record-44am23un\\install-record.txt' --single-version-externally-managed --compile --install-headers 'C:\\Users\\t-sarthak\\Anaconda3\\Include\\lets-be-rational' Check the logs for full command output.\n",
      "WARNING: Ignoring invalid distribution -mpy (c:\\users\\t-sarthak\\anaconda3\\lib\\site-packages)\n",
      "WARNING: Ignoring invalid distribution -umpy (c:\\users\\t-sarthak\\anaconda3\\lib\\site-packages)\n",
      "WARNING: Ignoring invalid distribution - (c:\\users\\t-sarthak\\anaconda3\\lib\\site-packages)\n",
      "WARNING: Ignoring invalid distribution -mpy (c:\\users\\t-sarthak\\anaconda3\\lib\\site-packages)\n",
      "WARNING: Ignoring invalid distribution -umpy (c:\\users\\t-sarthak\\anaconda3\\lib\\site-packages)\n",
      "WARNING: Ignoring invalid distribution - (c:\\users\\t-sarthak\\anaconda3\\lib\\site-packages)\n",
      "WARNING: Ignoring invalid distribution -mpy (c:\\users\\t-sarthak\\anaconda3\\lib\\site-packages)\n",
      "WARNING: Ignoring invalid distribution -umpy (c:\\users\\t-sarthak\\anaconda3\\lib\\site-packages)\n",
      "WARNING: Ignoring invalid distribution - (c:\\users\\t-sarthak\\anaconda3\\lib\\site-packages)\n"
     ]
    }
   ],
   "source": [
    "!pip install vollib"
   ]
  },
  {
   "cell_type": "code",
   "execution_count": 2,
   "id": "90266c70",
   "metadata": {},
   "outputs": [
    {
     "name": "stdout",
     "output_type": "stream",
     "text": [
      "Collecting py_vollib\n",
      "  Downloading py_vollib-1.0.1.tar.gz (19 kB)\n",
      "Collecting py_lets_be_rational\n",
      "  Downloading py_lets_be_rational-1.0.1.tar.gz (18 kB)\n",
      "Requirement already satisfied: simplejson in c:\\users\\t-sarthak\\anaconda3\\lib\\site-packages (from py_vollib) (3.17.6)\n",
      "Requirement already satisfied: numpy in c:\\users\\t-sarthak\\anaconda3\\lib\\site-packages (from py_vollib) (1.22.3)\n",
      "Requirement already satisfied: pandas in c:\\users\\t-sarthak\\anaconda3\\lib\\site-packages (from py_vollib) (1.4.2)\n",
      "Requirement already satisfied: scipy in c:\\users\\t-sarthak\\anaconda3\\lib\\site-packages (from py_vollib) (1.6.2)\n",
      "Requirement already satisfied: python-dateutil>=2.8.1 in c:\\users\\t-sarthak\\anaconda3\\lib\\site-packages (from pandas->py_vollib) (2.8.1)\n",
      "Requirement already satisfied: pytz>=2020.1 in c:\\users\\t-sarthak\\anaconda3\\lib\\site-packages (from pandas->py_vollib) (2022.1)\n",
      "Requirement already satisfied: six>=1.5 in c:\\users\\t-sarthak\\anaconda3\\lib\\site-packages (from python-dateutil>=2.8.1->pandas->py_vollib) (1.14.0)\n",
      "Building wheels for collected packages: py-vollib, py-lets-be-rational\n",
      "  Building wheel for py-vollib (setup.py): started\n",
      "  Building wheel for py-vollib (setup.py): finished with status 'done'\n",
      "  Created wheel for py-vollib: filename=py_vollib-1.0.1-py3-none-any.whl size=62858 sha256=06302716855b9a06584f392b4496296df45857fa66ea8179afffd0791131a1eb\n",
      "  Stored in directory: c:\\users\\t-sarthak\\appdata\\local\\pip\\cache\\wheels\\38\\8d\\d9\\a680031767bd6a3d734fc7c48a75767591795e47ac66ca143c\n",
      "  Building wheel for py-lets-be-rational (setup.py): started\n",
      "  Building wheel for py-lets-be-rational (setup.py): finished with status 'done'\n",
      "  Created wheel for py-lets-be-rational: filename=py_lets_be_rational-1.0.1-py3-none-any.whl size=24469 sha256=a0af34969f57268d7c44bced7004e7df1771603bb9a58f7c9d01314ea1aed428\n",
      "  Stored in directory: c:\\users\\t-sarthak\\appdata\\local\\pip\\cache\\wheels\\e6\\67\\1e\\93e41aebf34e4fd3cb02a865e9c782c9edaac5051f15a01d2e\n",
      "Successfully built py-vollib py-lets-be-rational\n",
      "Installing collected packages: py-lets-be-rational, py-vollib\n",
      "Successfully installed py-lets-be-rational-1.0.1 py-vollib-1.0.1\n"
     ]
    },
    {
     "name": "stderr",
     "output_type": "stream",
     "text": [
      "WARNING: Ignoring invalid distribution -mpy (c:\\users\\t-sarthak\\anaconda3\\lib\\site-packages)\n",
      "WARNING: Ignoring invalid distribution -umpy (c:\\users\\t-sarthak\\anaconda3\\lib\\site-packages)\n",
      "WARNING: Ignoring invalid distribution - (c:\\users\\t-sarthak\\anaconda3\\lib\\site-packages)\n",
      "WARNING: Ignoring invalid distribution -mpy (c:\\users\\t-sarthak\\anaconda3\\lib\\site-packages)\n",
      "WARNING: Ignoring invalid distribution -umpy (c:\\users\\t-sarthak\\anaconda3\\lib\\site-packages)\n",
      "WARNING: Ignoring invalid distribution - (c:\\users\\t-sarthak\\anaconda3\\lib\\site-packages)\n",
      "WARNING: Ignoring invalid distribution -mpy (c:\\users\\t-sarthak\\anaconda3\\lib\\site-packages)\n",
      "WARNING: Ignoring invalid distribution -umpy (c:\\users\\t-sarthak\\anaconda3\\lib\\site-packages)\n",
      "WARNING: Ignoring invalid distribution - (c:\\users\\t-sarthak\\anaconda3\\lib\\site-packages)\n",
      "WARNING: Ignoring invalid distribution -mpy (c:\\users\\t-sarthak\\anaconda3\\lib\\site-packages)\n",
      "WARNING: Ignoring invalid distribution -umpy (c:\\users\\t-sarthak\\anaconda3\\lib\\site-packages)\n",
      "WARNING: Ignoring invalid distribution - (c:\\users\\t-sarthak\\anaconda3\\lib\\site-packages)\n",
      "WARNING: Ignoring invalid distribution -mpy (c:\\users\\t-sarthak\\anaconda3\\lib\\site-packages)\n",
      "WARNING: Ignoring invalid distribution -umpy (c:\\users\\t-sarthak\\anaconda3\\lib\\site-packages)\n",
      "WARNING: Ignoring invalid distribution - (c:\\users\\t-sarthak\\anaconda3\\lib\\site-packages)\n",
      "WARNING: Ignoring invalid distribution -mpy (c:\\users\\t-sarthak\\anaconda3\\lib\\site-packages)\n",
      "WARNING: Ignoring invalid distribution -umpy (c:\\users\\t-sarthak\\anaconda3\\lib\\site-packages)\n",
      "WARNING: Ignoring invalid distribution - (c:\\users\\t-sarthak\\anaconda3\\lib\\site-packages)\n",
      "WARNING: Ignoring invalid distribution -mpy (c:\\users\\t-sarthak\\anaconda3\\lib\\site-packages)\n",
      "WARNING: Ignoring invalid distribution -umpy (c:\\users\\t-sarthak\\anaconda3\\lib\\site-packages)\n",
      "WARNING: Ignoring invalid distribution - (c:\\users\\t-sarthak\\anaconda3\\lib\\site-packages)\n",
      "WARNING: Ignoring invalid distribution -mpy (c:\\users\\t-sarthak\\anaconda3\\lib\\site-packages)\n",
      "WARNING: Ignoring invalid distribution -umpy (c:\\users\\t-sarthak\\anaconda3\\lib\\site-packages)\n",
      "WARNING: Ignoring invalid distribution - (c:\\users\\t-sarthak\\anaconda3\\lib\\site-packages)\n"
     ]
    }
   ],
   "source": [
    "!pip install py_vollib"
   ]
  },
  {
   "cell_type": "code",
   "execution_count": 4,
   "id": "113f0818",
   "metadata": {},
   "outputs": [],
   "source": [
    "from py_vollib.black_scholes.implied_volatility import implied_volatility\n",
    "from py_vollib.black_scholes.greeks.analytical import delta, gamma, rho, theta, vega\n",
    "from datetime import datetime, timedelta\n",
    "import pandas as pd"
   ]
  },
  {
   "cell_type": "code",
   "execution_count": 27,
   "id": "e0497469",
   "metadata": {},
   "outputs": [],
   "source": [
    "price =62\n",
    "S =18117\n",
    "K=17850\n",
    "t = (datetime(2022,11,10,15,30,0)-datetime(2022,11,3,15,30,0))/timedelta(days=1)/365\n",
    "r =0.1\n",
    "flag =\"p\"\n",
    "iv=0.1534"
   ]
  },
  {
   "cell_type": "code",
   "execution_count": 28,
   "id": "9b92de6c",
   "metadata": {},
   "outputs": [
    {
     "data": {
      "text/plain": [
       "0.17361743129972743"
      ]
     },
     "execution_count": 28,
     "metadata": {},
     "output_type": "execute_result"
    }
   ],
   "source": [
    "implied_volatility(price, S, K, t, r, flag)"
   ]
  },
  {
   "cell_type": "code",
   "execution_count": 29,
   "id": "73515de2",
   "metadata": {
    "scrolled": true
   },
   "outputs": [
    {
     "data": {
      "text/plain": [
       "-0.21191273628663576"
      ]
     },
     "execution_count": 29,
     "metadata": {},
     "output_type": "execute_result"
    }
   ],
   "source": [
    "delta(flag, S, K, t, r, iv)"
   ]
  },
  {
   "cell_type": "code",
   "execution_count": 30,
   "id": "4a8e04da",
   "metadata": {},
   "outputs": [
    {
     "data": {
      "text/plain": [
       "0.000752818620809866"
      ]
     },
     "execution_count": 30,
     "metadata": {},
     "output_type": "execute_result"
    }
   ],
   "source": [
    "gamma(flag, S, K, t, r, iv)"
   ]
  },
  {
   "cell_type": "code",
   "execution_count": 31,
   "id": "c2bba0ef",
   "metadata": {},
   "outputs": [
    {
     "data": {
      "text/plain": [
       "-0.7452565940468303"
      ]
     },
     "execution_count": 31,
     "metadata": {},
     "output_type": "execute_result"
    }
   ],
   "source": [
    "rho(flag, S, K, t, r, iv)"
   ]
  },
  {
   "cell_type": "code",
   "execution_count": 32,
   "id": "d6a6732f",
   "metadata": {},
   "outputs": [
    {
     "data": {
      "text/plain": [
       "-6.900439430349545"
      ]
     },
     "execution_count": 32,
     "metadata": {},
     "output_type": "execute_result"
    }
   ],
   "source": [
    "theta(flag, S, K, t, r, iv)"
   ]
  },
  {
   "cell_type": "code",
   "execution_count": 33,
   "id": "e53034a0",
   "metadata": {},
   "outputs": [
    {
     "data": {
      "text/plain": [
       "7.269314465829871"
      ]
     },
     "execution_count": 33,
     "metadata": {},
     "output_type": "execute_result"
    }
   ],
   "source": [
    "vega(flag, S, K, t, r, iv)"
   ]
  },
  {
   "cell_type": "code",
   "execution_count": null,
   "id": "f2eda811",
   "metadata": {},
   "outputs": [],
   "source": []
  },
  {
   "cell_type": "code",
   "execution_count": null,
   "id": "8ce9c128",
   "metadata": {},
   "outputs": [],
   "source": []
  },
  {
   "cell_type": "code",
   "execution_count": null,
   "id": "69ce4e57",
   "metadata": {},
   "outputs": [],
   "source": []
  }
 ],
 "metadata": {
  "kernelspec": {
   "display_name": "Python 3",
   "language": "python",
   "name": "python3"
  },
  "language_info": {
   "codemirror_mode": {
    "name": "ipython",
    "version": 3
   },
   "file_extension": ".py",
   "mimetype": "text/x-python",
   "name": "python",
   "nbconvert_exporter": "python",
   "pygments_lexer": "ipython3",
   "version": "3.8.8"
  }
 },
 "nbformat": 4,
 "nbformat_minor": 5
}
